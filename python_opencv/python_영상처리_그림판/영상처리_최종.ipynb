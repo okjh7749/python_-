{
 "cells": [
  {
   "cell_type": "code",
   "execution_count": 2,
   "metadata": {},
   "outputs": [
    {
     "ename": "TypeError",
     "evalue": "makestiker() takes 0 positional arguments but 1 was given",
     "output_type": "error",
     "traceback": [
      "\u001b[1;31m---------------------------------------------------------------------------\u001b[0m",
      "\u001b[1;31mTypeError\u001b[0m                                 Traceback (most recent call last)",
      "\u001b[1;31mTypeError\u001b[0m: makestiker() takes 0 positional arguments but 1 was given"
     ]
    },
    {
     "ename": "TypeError",
     "evalue": "makestiker() takes 0 positional arguments but 1 was given",
     "output_type": "error",
     "traceback": [
      "\u001b[1;31m---------------------------------------------------------------------------\u001b[0m",
      "\u001b[1;31mTypeError\u001b[0m                                 Traceback (most recent call last)",
      "\u001b[1;31mTypeError\u001b[0m: makestiker() takes 0 positional arguments but 1 was given"
     ]
    },
    {
     "ename": "TypeError",
     "evalue": "makestiker() takes 0 positional arguments but 1 was given",
     "output_type": "error",
     "traceback": [
      "\u001b[1;31m---------------------------------------------------------------------------\u001b[0m",
      "\u001b[1;31mTypeError\u001b[0m                                 Traceback (most recent call last)",
      "\u001b[1;31mTypeError\u001b[0m: makestiker() takes 0 positional arguments but 1 was given"
     ]
    },
    {
     "ename": "TypeError",
     "evalue": "makestiker() takes 0 positional arguments but 1 was given",
     "output_type": "error",
     "traceback": [
      "\u001b[1;31m---------------------------------------------------------------------------\u001b[0m",
      "\u001b[1;31mTypeError\u001b[0m                                 Traceback (most recent call last)",
      "\u001b[1;31mTypeError\u001b[0m: makestiker() takes 0 positional arguments but 1 was given"
     ]
    },
    {
     "ename": "TypeError",
     "evalue": "makestiker() takes 0 positional arguments but 1 was given",
     "output_type": "error",
     "traceback": [
      "\u001b[1;31m---------------------------------------------------------------------------\u001b[0m",
      "\u001b[1;31mTypeError\u001b[0m                                 Traceback (most recent call last)",
      "\u001b[1;31mTypeError\u001b[0m: makestiker() takes 0 positional arguments but 1 was given"
     ]
    },
    {
     "ename": "TypeError",
     "evalue": "makestiker() takes 0 positional arguments but 1 was given",
     "output_type": "error",
     "traceback": [
      "\u001b[1;31m---------------------------------------------------------------------------\u001b[0m",
      "\u001b[1;31mTypeError\u001b[0m                                 Traceback (most recent call last)",
      "\u001b[1;31mTypeError\u001b[0m: makestiker() takes 0 positional arguments but 1 was given"
     ]
    },
    {
     "ename": "TypeError",
     "evalue": "makestiker() takes 0 positional arguments but 1 was given",
     "output_type": "error",
     "traceback": [
      "\u001b[1;31m---------------------------------------------------------------------------\u001b[0m",
      "\u001b[1;31mTypeError\u001b[0m                                 Traceback (most recent call last)",
      "\u001b[1;31mTypeError\u001b[0m: makestiker() takes 0 positional arguments but 1 was given"
     ]
    },
    {
     "ename": "TypeError",
     "evalue": "makestiker() takes 0 positional arguments but 1 was given",
     "output_type": "error",
     "traceback": [
      "\u001b[1;31m---------------------------------------------------------------------------\u001b[0m",
      "\u001b[1;31mTypeError\u001b[0m                                 Traceback (most recent call last)",
      "\u001b[1;31mTypeError\u001b[0m: makestiker() takes 0 positional arguments but 1 was given"
     ]
    },
    {
     "ename": "TypeError",
     "evalue": "makestiker() takes 0 positional arguments but 1 was given",
     "output_type": "error",
     "traceback": [
      "\u001b[1;31m---------------------------------------------------------------------------\u001b[0m",
      "\u001b[1;31mTypeError\u001b[0m                                 Traceback (most recent call last)",
      "\u001b[1;31mTypeError\u001b[0m: makestiker() takes 0 positional arguments but 1 was given"
     ]
    },
    {
     "ename": "TypeError",
     "evalue": "makestiker() takes 0 positional arguments but 1 was given",
     "output_type": "error",
     "traceback": [
      "\u001b[1;31m---------------------------------------------------------------------------\u001b[0m",
      "\u001b[1;31mTypeError\u001b[0m                                 Traceback (most recent call last)",
      "\u001b[1;31mTypeError\u001b[0m: makestiker() takes 0 positional arguments but 1 was given"
     ]
    },
    {
     "ename": "TypeError",
     "evalue": "makestiker() takes 0 positional arguments but 1 was given",
     "output_type": "error",
     "traceback": [
      "\u001b[1;31m---------------------------------------------------------------------------\u001b[0m",
      "\u001b[1;31mTypeError\u001b[0m                                 Traceback (most recent call last)",
      "\u001b[1;31mTypeError\u001b[0m: makestiker() takes 0 positional arguments but 1 was given"
     ]
    },
    {
     "ename": "TypeError",
     "evalue": "makestiker() takes 0 positional arguments but 1 was given",
     "output_type": "error",
     "traceback": [
      "\u001b[1;31m---------------------------------------------------------------------------\u001b[0m",
      "\u001b[1;31mTypeError\u001b[0m                                 Traceback (most recent call last)",
      "\u001b[1;31mTypeError\u001b[0m: makestiker() takes 0 positional arguments but 1 was given"
     ]
    },
    {
     "ename": "TypeError",
     "evalue": "makestiker() takes 0 positional arguments but 1 was given",
     "output_type": "error",
     "traceback": [
      "\u001b[1;31m---------------------------------------------------------------------------\u001b[0m",
      "\u001b[1;31mTypeError\u001b[0m                                 Traceback (most recent call last)",
      "\u001b[1;31mTypeError\u001b[0m: makestiker() takes 0 positional arguments but 1 was given"
     ]
    },
    {
     "ename": "TypeError",
     "evalue": "makestiker() takes 0 positional arguments but 1 was given",
     "output_type": "error",
     "traceback": [
      "\u001b[1;31m---------------------------------------------------------------------------\u001b[0m",
      "\u001b[1;31mTypeError\u001b[0m                                 Traceback (most recent call last)",
      "\u001b[1;31mTypeError\u001b[0m: makestiker() takes 0 positional arguments but 1 was given"
     ]
    },
    {
     "ename": "TypeError",
     "evalue": "makestiker() takes 0 positional arguments but 1 was given",
     "output_type": "error",
     "traceback": [
      "\u001b[1;31m---------------------------------------------------------------------------\u001b[0m",
      "\u001b[1;31mTypeError\u001b[0m                                 Traceback (most recent call last)",
      "\u001b[1;31mTypeError\u001b[0m: makestiker() takes 0 positional arguments but 1 was given"
     ]
    },
    {
     "ename": "TypeError",
     "evalue": "makestiker() takes 0 positional arguments but 1 was given",
     "output_type": "error",
     "traceback": [
      "\u001b[1;31m---------------------------------------------------------------------------\u001b[0m",
      "\u001b[1;31mTypeError\u001b[0m                                 Traceback (most recent call last)",
      "\u001b[1;31mTypeError\u001b[0m: makestiker() takes 0 positional arguments but 1 was given"
     ]
    },
    {
     "ename": "TypeError",
     "evalue": "makestiker() takes 0 positional arguments but 1 was given",
     "output_type": "error",
     "traceback": [
      "\u001b[1;31m---------------------------------------------------------------------------\u001b[0m",
      "\u001b[1;31mTypeError\u001b[0m                                 Traceback (most recent call last)",
      "\u001b[1;31mTypeError\u001b[0m: makestiker() takes 0 positional arguments but 1 was given"
     ]
    },
    {
     "ename": "TypeError",
     "evalue": "makestiker() takes 0 positional arguments but 1 was given",
     "output_type": "error",
     "traceback": [
      "\u001b[1;31m---------------------------------------------------------------------------\u001b[0m",
      "\u001b[1;31mTypeError\u001b[0m                                 Traceback (most recent call last)",
      "\u001b[1;31mTypeError\u001b[0m: makestiker() takes 0 positional arguments but 1 was given"
     ]
    },
    {
     "ename": "TypeError",
     "evalue": "makestiker() takes 0 positional arguments but 1 was given",
     "output_type": "error",
     "traceback": [
      "\u001b[1;31m---------------------------------------------------------------------------\u001b[0m",
      "\u001b[1;31mTypeError\u001b[0m                                 Traceback (most recent call last)",
      "\u001b[1;31mTypeError\u001b[0m: makestiker() takes 0 positional arguments but 1 was given"
     ]
    },
    {
     "ename": "TypeError",
     "evalue": "makestiker() takes 0 positional arguments but 1 was given",
     "output_type": "error",
     "traceback": [
      "\u001b[1;31m---------------------------------------------------------------------------\u001b[0m",
      "\u001b[1;31mTypeError\u001b[0m                                 Traceback (most recent call last)",
      "\u001b[1;31mTypeError\u001b[0m: makestiker() takes 0 positional arguments but 1 was given"
     ]
    },
    {
     "ename": "TypeError",
     "evalue": "makestiker() takes 0 positional arguments but 1 was given",
     "output_type": "error",
     "traceback": [
      "\u001b[1;31m---------------------------------------------------------------------------\u001b[0m",
      "\u001b[1;31mTypeError\u001b[0m                                 Traceback (most recent call last)",
      "\u001b[1;31mTypeError\u001b[0m: makestiker() takes 0 positional arguments but 1 was given"
     ]
    },
    {
     "ename": "TypeError",
     "evalue": "makestiker() takes 0 positional arguments but 1 was given",
     "output_type": "error",
     "traceback": [
      "\u001b[1;31m---------------------------------------------------------------------------\u001b[0m",
      "\u001b[1;31mTypeError\u001b[0m                                 Traceback (most recent call last)",
      "\u001b[1;31mTypeError\u001b[0m: makestiker() takes 0 positional arguments but 1 was given"
     ]
    },
    {
     "ename": "TypeError",
     "evalue": "makestiker() takes 0 positional arguments but 1 was given",
     "output_type": "error",
     "traceback": [
      "\u001b[1;31m---------------------------------------------------------------------------\u001b[0m",
      "\u001b[1;31mTypeError\u001b[0m                                 Traceback (most recent call last)",
      "\u001b[1;31mTypeError\u001b[0m: makestiker() takes 0 positional arguments but 1 was given"
     ]
    },
    {
     "ename": "TypeError",
     "evalue": "makestiker() takes 0 positional arguments but 1 was given",
     "output_type": "error",
     "traceback": [
      "\u001b[1;31m---------------------------------------------------------------------------\u001b[0m",
      "\u001b[1;31mTypeError\u001b[0m                                 Traceback (most recent call last)",
      "\u001b[1;31mTypeError\u001b[0m: makestiker() takes 0 positional arguments but 1 was given"
     ]
    },
    {
     "ename": "TypeError",
     "evalue": "makestiker() takes 0 positional arguments but 1 was given",
     "output_type": "error",
     "traceback": [
      "\u001b[1;31m---------------------------------------------------------------------------\u001b[0m",
      "\u001b[1;31mTypeError\u001b[0m                                 Traceback (most recent call last)",
      "\u001b[1;31mTypeError\u001b[0m: makestiker() takes 0 positional arguments but 1 was given"
     ]
    },
    {
     "ename": "TypeError",
     "evalue": "makestiker() takes 0 positional arguments but 1 was given",
     "output_type": "error",
     "traceback": [
      "\u001b[1;31m---------------------------------------------------------------------------\u001b[0m",
      "\u001b[1;31mTypeError\u001b[0m                                 Traceback (most recent call last)",
      "\u001b[1;31mTypeError\u001b[0m: makestiker() takes 0 positional arguments but 1 was given"
     ]
    },
    {
     "ename": "TypeError",
     "evalue": "makestiker() takes 0 positional arguments but 1 was given",
     "output_type": "error",
     "traceback": [
      "\u001b[1;31m---------------------------------------------------------------------------\u001b[0m",
      "\u001b[1;31mTypeError\u001b[0m                                 Traceback (most recent call last)",
      "\u001b[1;31mTypeError\u001b[0m: makestiker() takes 0 positional arguments but 1 was given"
     ]
    },
    {
     "ename": "TypeError",
     "evalue": "makestiker() takes 0 positional arguments but 1 was given",
     "output_type": "error",
     "traceback": [
      "\u001b[1;31m---------------------------------------------------------------------------\u001b[0m",
      "\u001b[1;31mTypeError\u001b[0m                                 Traceback (most recent call last)",
      "\u001b[1;31mTypeError\u001b[0m: makestiker() takes 0 positional arguments but 1 was given"
     ]
    },
    {
     "ename": "TypeError",
     "evalue": "makestiker() takes 0 positional arguments but 1 was given",
     "output_type": "error",
     "traceback": [
      "\u001b[1;31m---------------------------------------------------------------------------\u001b[0m",
      "\u001b[1;31mTypeError\u001b[0m                                 Traceback (most recent call last)",
      "\u001b[1;31mTypeError\u001b[0m: makestiker() takes 0 positional arguments but 1 was given"
     ]
    },
    {
     "ename": "TypeError",
     "evalue": "makestiker() takes 0 positional arguments but 1 was given",
     "output_type": "error",
     "traceback": [
      "\u001b[1;31m---------------------------------------------------------------------------\u001b[0m",
      "\u001b[1;31mTypeError\u001b[0m                                 Traceback (most recent call last)",
      "\u001b[1;31mTypeError\u001b[0m: makestiker() takes 0 positional arguments but 1 was given"
     ]
    },
    {
     "ename": "TypeError",
     "evalue": "makestiker() takes 0 positional arguments but 1 was given",
     "output_type": "error",
     "traceback": [
      "\u001b[1;31m---------------------------------------------------------------------------\u001b[0m",
      "\u001b[1;31mTypeError\u001b[0m                                 Traceback (most recent call last)",
      "\u001b[1;31mTypeError\u001b[0m: makestiker() takes 0 positional arguments but 1 was given"
     ]
    },
    {
     "ename": "TypeError",
     "evalue": "makestiker() takes 0 positional arguments but 1 was given",
     "output_type": "error",
     "traceback": [
      "\u001b[1;31m---------------------------------------------------------------------------\u001b[0m",
      "\u001b[1;31mTypeError\u001b[0m                                 Traceback (most recent call last)",
      "\u001b[1;31mTypeError\u001b[0m: makestiker() takes 0 positional arguments but 1 was given"
     ]
    },
    {
     "ename": "TypeError",
     "evalue": "makestiker() takes 0 positional arguments but 1 was given",
     "output_type": "error",
     "traceback": [
      "\u001b[1;31m---------------------------------------------------------------------------\u001b[0m",
      "\u001b[1;31mTypeError\u001b[0m                                 Traceback (most recent call last)",
      "\u001b[1;31mTypeError\u001b[0m: makestiker() takes 0 positional arguments but 1 was given"
     ]
    },
    {
     "ename": "TypeError",
     "evalue": "makestiker() takes 0 positional arguments but 1 was given",
     "output_type": "error",
     "traceback": [
      "\u001b[1;31m---------------------------------------------------------------------------\u001b[0m",
      "\u001b[1;31mTypeError\u001b[0m                                 Traceback (most recent call last)",
      "\u001b[1;31mTypeError\u001b[0m: makestiker() takes 0 positional arguments but 1 was given"
     ]
    },
    {
     "ename": "TypeError",
     "evalue": "makestiker() takes 0 positional arguments but 1 was given",
     "output_type": "error",
     "traceback": [
      "\u001b[1;31m---------------------------------------------------------------------------\u001b[0m",
      "\u001b[1;31mTypeError\u001b[0m                                 Traceback (most recent call last)",
      "\u001b[1;31mTypeError\u001b[0m: makestiker() takes 0 positional arguments but 1 was given"
     ]
    },
    {
     "ename": "TypeError",
     "evalue": "makestiker() takes 0 positional arguments but 1 was given",
     "output_type": "error",
     "traceback": [
      "\u001b[1;31m---------------------------------------------------------------------------\u001b[0m",
      "\u001b[1;31mTypeError\u001b[0m                                 Traceback (most recent call last)",
      "\u001b[1;31mTypeError\u001b[0m: makestiker() takes 0 positional arguments but 1 was given"
     ]
    },
    {
     "ename": "TypeError",
     "evalue": "makestiker() takes 0 positional arguments but 1 was given",
     "output_type": "error",
     "traceback": [
      "\u001b[1;31m---------------------------------------------------------------------------\u001b[0m",
      "\u001b[1;31mTypeError\u001b[0m                                 Traceback (most recent call last)",
      "\u001b[1;31mTypeError\u001b[0m: makestiker() takes 0 positional arguments but 1 was given"
     ]
    },
    {
     "ename": "TypeError",
     "evalue": "makestiker() takes 0 positional arguments but 1 was given",
     "output_type": "error",
     "traceback": [
      "\u001b[1;31m---------------------------------------------------------------------------\u001b[0m",
      "\u001b[1;31mTypeError\u001b[0m                                 Traceback (most recent call last)",
      "\u001b[1;31mTypeError\u001b[0m: makestiker() takes 0 positional arguments but 1 was given"
     ]
    },
    {
     "ename": "TypeError",
     "evalue": "makestiker() takes 0 positional arguments but 1 was given",
     "output_type": "error",
     "traceback": [
      "\u001b[1;31m---------------------------------------------------------------------------\u001b[0m",
      "\u001b[1;31mTypeError\u001b[0m                                 Traceback (most recent call last)",
      "\u001b[1;31mTypeError\u001b[0m: makestiker() takes 0 positional arguments but 1 was given"
     ]
    },
    {
     "ename": "TypeError",
     "evalue": "makestiker() takes 0 positional arguments but 1 was given",
     "output_type": "error",
     "traceback": [
      "\u001b[1;31m---------------------------------------------------------------------------\u001b[0m",
      "\u001b[1;31mTypeError\u001b[0m                                 Traceback (most recent call last)",
      "\u001b[1;31mTypeError\u001b[0m: makestiker() takes 0 positional arguments but 1 was given"
     ]
    },
    {
     "ename": "TypeError",
     "evalue": "makestiker() takes 0 positional arguments but 1 was given",
     "output_type": "error",
     "traceback": [
      "\u001b[1;31m---------------------------------------------------------------------------\u001b[0m",
      "\u001b[1;31mTypeError\u001b[0m                                 Traceback (most recent call last)",
      "\u001b[1;31mTypeError\u001b[0m: makestiker() takes 0 positional arguments but 1 was given"
     ]
    },
    {
     "ename": "TypeError",
     "evalue": "makestiker() takes 0 positional arguments but 1 was given",
     "output_type": "error",
     "traceback": [
      "\u001b[1;31m---------------------------------------------------------------------------\u001b[0m",
      "\u001b[1;31mTypeError\u001b[0m                                 Traceback (most recent call last)",
      "\u001b[1;31mTypeError\u001b[0m: makestiker() takes 0 positional arguments but 1 was given"
     ]
    },
    {
     "ename": "TypeError",
     "evalue": "makestiker() takes 0 positional arguments but 1 was given",
     "output_type": "error",
     "traceback": [
      "\u001b[1;31m---------------------------------------------------------------------------\u001b[0m",
      "\u001b[1;31mTypeError\u001b[0m                                 Traceback (most recent call last)",
      "\u001b[1;31mTypeError\u001b[0m: makestiker() takes 0 positional arguments but 1 was given"
     ]
    },
    {
     "ename": "TypeError",
     "evalue": "makestiker() takes 0 positional arguments but 1 was given",
     "output_type": "error",
     "traceback": [
      "\u001b[1;31m---------------------------------------------------------------------------\u001b[0m",
      "\u001b[1;31mTypeError\u001b[0m                                 Traceback (most recent call last)",
      "\u001b[1;31mTypeError\u001b[0m: makestiker() takes 0 positional arguments but 1 was given"
     ]
    },
    {
     "ename": "TypeError",
     "evalue": "makestiker() takes 0 positional arguments but 1 was given",
     "output_type": "error",
     "traceback": [
      "\u001b[1;31m---------------------------------------------------------------------------\u001b[0m",
      "\u001b[1;31mTypeError\u001b[0m                                 Traceback (most recent call last)",
      "\u001b[1;31mTypeError\u001b[0m: makestiker() takes 0 positional arguments but 1 was given"
     ]
    },
    {
     "ename": "TypeError",
     "evalue": "makestiker() takes 0 positional arguments but 1 was given",
     "output_type": "error",
     "traceback": [
      "\u001b[1;31m---------------------------------------------------------------------------\u001b[0m",
      "\u001b[1;31mTypeError\u001b[0m                                 Traceback (most recent call last)",
      "\u001b[1;31mTypeError\u001b[0m: makestiker() takes 0 positional arguments but 1 was given"
     ]
    },
    {
     "ename": "TypeError",
     "evalue": "makestiker() takes 0 positional arguments but 1 was given",
     "output_type": "error",
     "traceback": [
      "\u001b[1;31m---------------------------------------------------------------------------\u001b[0m",
      "\u001b[1;31mTypeError\u001b[0m                                 Traceback (most recent call last)",
      "\u001b[1;31mTypeError\u001b[0m: makestiker() takes 0 positional arguments but 1 was given"
     ]
    },
    {
     "ename": "TypeError",
     "evalue": "makestiker() takes 0 positional arguments but 1 was given",
     "output_type": "error",
     "traceback": [
      "\u001b[1;31m---------------------------------------------------------------------------\u001b[0m",
      "\u001b[1;31mTypeError\u001b[0m                                 Traceback (most recent call last)",
      "\u001b[1;31mTypeError\u001b[0m: makestiker() takes 0 positional arguments but 1 was given"
     ]
    },
    {
     "ename": "TypeError",
     "evalue": "makestiker() takes 0 positional arguments but 1 was given",
     "output_type": "error",
     "traceback": [
      "\u001b[1;31m---------------------------------------------------------------------------\u001b[0m",
      "\u001b[1;31mTypeError\u001b[0m                                 Traceback (most recent call last)",
      "\u001b[1;31mTypeError\u001b[0m: makestiker() takes 0 positional arguments but 1 was given"
     ]
    },
    {
     "ename": "TypeError",
     "evalue": "makestiker() takes 0 positional arguments but 1 was given",
     "output_type": "error",
     "traceback": [
      "\u001b[1;31m---------------------------------------------------------------------------\u001b[0m",
      "\u001b[1;31mTypeError\u001b[0m                                 Traceback (most recent call last)",
      "\u001b[1;31mTypeError\u001b[0m: makestiker() takes 0 positional arguments but 1 was given"
     ]
    }
   ],
   "source": [
    "# 처음 실행되는 img_draw창에서 중앙에 있는 빨간 사격형 부분이 색을 읽는 부분임\n",
    "# 해당 부분에 영상에 그리고 싶은 색의 물체를 올려놓고 space bar를 누름\n",
    "# 왼쪽 img_result 창의 트랙바를 이용하여 확실하게 색을 잡아줌\n",
    "# 이후 r 버튼을 누르면 원하는 색의 물체의 중심에 보이는 원을 기준으로 선이 그려짐\n",
    "# 다시 r 버튼을 누르면 그리는 행위를 일시 중지함\n",
    "# 이후 다시 space bar를 누르면 색을 얻기위한 빨간 사각형부분이 뜨며 다시 space bar를 누르면 원하는 색상을 바꿔줄 수 있음\n",
    "# x버튼을 누르면 화면이 전부 지워짐\n",
    "#\n",
    "# m키를 누르면 스티커를 만드는 화면이 뜸\n",
    "# simg 창에서 원하는 색상을 찾아 마우스 왼쪽 클릭을 하면 해당 색이 지정이 됨\n",
    "# 이후 마우스를 왼쪽클릭으로 드래그 앤 드롭 하면 해당 색으로 그림이 그려짐\n",
    "# 새로운색을 얻고 싶으면 n 버튼을 눌러 원하는 색의 부분을 클릭하면 됨\n",
    "# e를 누르면 검은색으로 덫칠하여 지우개의 역할을 수행함 이후 다시 e를 누르면 지우개 모드가 종료되고 다시 색을 지정하여 그림을 그리면 됨\n",
    "# 만약 스티커를 초기화 하고 싶으면 c를 누름\n",
    "# 이후 스티커를 다 만들었으면 esc 버튼을 누른 후, img_draw 창을 클릭해준 뒤 s를 누르면 스티커가 화면에 그려짐.\n",
    "\n",
    "# 스티커를 만들때 hsv 이미지를 가져와 색상을 선택하기때문에 다양한 색상을 가진 이미지가 필요.\n",
    "#simg = cv2.imread(\"./img/1.jpg\") 이부분 변경 요망\n",
    "\n",
    "import cv2\n",
    "import numpy as np\n",
    "\n",
    "###변수 설정들\n",
    "cap = cv2.VideoCapture(0)\n",
    "\n",
    "color1 = 0 #이미지에서 읽어온 h색상의 평균값을 저장하는곳\n",
    "step = 0 # 색을 바꾸기위해 임시로 설정한 변수\n",
    "ranges = 20 # h값 조절 범위\n",
    "isDraw = False\n",
    "set_color = False # 동영상 위에 그릴 색이 세팅이 되었는가  t f\n",
    "lower_color1=0\n",
    "lower_color2=0\n",
    "lower_color3=0\n",
    "upper_color1=0\n",
    "upper_color2=0\n",
    "upper_color3=0\n",
    "is_stikerdraw=False\n",
    "\n",
    "list_draw_location = [] # 현재 좌표들과 해당 색상을 저장하는 배열\n",
    "history_draw_locations = [] # draw가 f로 바뀌면 현재 좌표들과 색을 받아와 저장(화면에 계속 띄어주기위함)\n",
    "\n",
    "set_sColor = False # 스티커에서 그릴 색이 세팅이 되었는가 t f\n",
    "is_sDragging = False # 스티커를 만들때 현재 좌표로 그릴지 말지를 결정 t f\n",
    "is_ser=False # 스티커에서 지우개를 사용할건가 말것인가 t f\n",
    "scolor=0 # 스티커에 그림을 그릴 색을 저장하는 변수\n",
    "is_stiker=False # 스티커를 만들것인지 말것인지를 결정 t f\n",
    "is_result=False # 스티커를 다 만든후 원본 동영상에 붙일것인지 말것인지.\n",
    "\n",
    "list_sColor=[] # 스티커에 그릴 색상들을 저장할 변수\n",
    "list_sDraw=[] #  스티커에서 현재 좌표를 이용해 그림을 그릴때 쓸 좌표 저장\n",
    "history_list_sDraw=[] # 스티커에서 is_sDragging가 f로 바뀌면 현재좌표들을 이곳에 추가로 저장\n",
    "\n",
    "def mouse_callback2(event, x, y, flags, param):\n",
    "    global point1,point2,is_stikerdraw\n",
    "    if event==cv2.EVENT_LBUTTONDOWN:\n",
    "        point1=x\n",
    "        point2=y\n",
    "        is_stikerdraw=True\n",
    "## 원본 동영상에 그림을 그리는 함수\n",
    "\n",
    "def draw(img_draw, locations): \n",
    "    for i in range(len(locations)-1):\n",
    "        #좌표와 색을 읽어서 선을 그림\n",
    "        cv2.line(img_draw, tuple(locations[i][:2]), tuple(locations[i+1][:2]),locations[i][2], 3)\n",
    "\n",
    "    return img_draw\n",
    "\n",
    "## 원본 동영상에서 원하는 색상을 찾아내서 mask형식으로 만드는 함수\n",
    "\n",
    "def makemask(x):\n",
    "    global color1\n",
    "    global lower_color1, lower_color2, lower_color3,upper_color1, upper_color2, upper_color3\n",
    "\n",
    "    #hsv 색상에서 s v값을 트랙바로 변경하기 위함\n",
    "    saturation = cv2.getTrackbarPos('saturation', 'img_result')\n",
    "    value = cv2.getTrackbarPos('value', 'img_result')\n",
    "\n",
    "    \n",
    "    color1 = int(color1)\n",
    "\n",
    "    # h의 범위로 +-20값을 얻어야하는데 각각 계산결과가 0보다작거나 180이 클때를 대비하여 \n",
    "    # 세가지 구간으로 나누어 계산\n",
    "    # 이때에 s v값은 트랙바값으로 받아옴\n",
    "    \n",
    "    if color1 < ranges:\n",
    "        lower_color1 = np.array([color1 - ranges + 180, saturation, value])\n",
    "        upper_color1 = np.array([180, 255, 255])\n",
    "        lower_color2 = np.array([0, saturation, value])\n",
    "        upper_color2 = np.array([color1, 255, 255])\n",
    "        lower_color3 = np.array([color1, saturation, value])\n",
    "        upper_color3 = np.array([color1 + ranges, 255, 255])\n",
    "    \n",
    "    elif color1 > 180 - ranges:\n",
    "        lower_color1 = np.array([color1, saturation, value])\n",
    "        upper_color1 = np.array([180, 255, 255])\n",
    "        lower_color2 = np.array([0, saturation, value])\n",
    "        upper_color2 = np.array([color1 + ranges - 180, 255, 255])\n",
    "        lower_color3 = np.array([color1 - ranges, saturation, value])\n",
    "        upper_color3 = np.array([color1, 255, 255])\n",
    "\n",
    "    else:\n",
    "        lower_color1 = np.array([color1, saturation, value])\n",
    "        upper_color1 = np.array([color1 + ranges, 255, 255])\n",
    "        lower_color2 = np.array([color1 - ranges, saturation, value])\n",
    "        upper_color2 = np.array([color1, 255, 255])\n",
    "        lower_color3 = np.array([color1 - ranges, saturation, value])\n",
    "        upper_color3 = np.array([color1, 255, 255])\n",
    "\n",
    "cv2.namedWindow('img_draw')\n",
    "cv2.namedWindow('img_result')\n",
    "\n",
    "# 트랙바 보여줄 window창의 이름, 범위와 할당할 변수 세팅\n",
    "\n",
    "cv2.createTrackbar('saturation', 'img_result', 0, 255, makemask)\n",
    "cv2.setTrackbarPos('saturation', 'img_result', 120)\n",
    "cv2.createTrackbar('value', 'img_result', 0, 255, makemask)\n",
    "cv2.setTrackbarPos('value', 'img_result', 120)\n",
    "\n",
    "## 스티커를 만드는 함수\n",
    "\n",
    "def makestiker():\n",
    "    \n",
    "    #스티커를 만들때 그림을 그리는 함수(위는 line으로 이건 원으로)\n",
    "    def draw(img, locations):\n",
    "        th=6\n",
    "        for i in range(len(locations)-1):\n",
    "            if locations[i][2]==(0,0,0): # 지우개의 설정값이 000 즉 검은색(마스크를 위함)\n",
    "                th=20\n",
    "            cv2.circle(img, ((locations[i][0]),(locations[i][1])),th,locations[i][2], -1)\n",
    "\n",
    "        return img\n",
    "    \n",
    "    #스티커 만드는함수 내에서의 마우스 콜백함수\n",
    "    def mouse_callback(event, x, y, flags, param):\n",
    "        global set_sColor, is_sDragging,list_sColor,list_sDraw,history_list_sDraw,is_ser,scolor\n",
    "\n",
    "        #스티커의 색상이 결정안된 상태에서\n",
    "        if set_sColor == False:\n",
    "            #지우개가 선택되면\n",
    "            if is_ser == True:\n",
    "                scolor=(0,0,0)\n",
    "                set_sColor =True\n",
    "            # 지우개가 아니며, 왼쪽버튼이 눌리면 색상을 선택\n",
    "            elif is_ser == False and event==cv2.EVENT_LBUTTONDOWN:\n",
    "                scolor = simg[y, x]\n",
    "                scolor=(int(scolor[0]),int(scolor[1]),int(scolor[2]))\n",
    "                list_sColor.append(scolor)\n",
    "                set_sColor =True\n",
    "        # 색상이 선택된 상태에서        \n",
    "        elif set_sColor ==True:\n",
    "            #왼쪽버튼을 누르면 그리기시작\n",
    "            if event==cv2.EVENT_LBUTTONDOWN:\n",
    "                is_sDragging = True\n",
    "            # 움직이는동안은 좌표를 list에 저장\n",
    "            elif event==cv2.EVENT_MOUSEMOVE:\n",
    "                if is_sDragging:\n",
    "                    list_sDraw.append((x,y,scolor))\n",
    "            # 왼쪽버튼을 때면 그리기름 멈추고 좌표들을 history에 넘겨줌\n",
    "            elif event==cv2.EVENT_LBUTTONUP:\n",
    "                if is_sDragging:\n",
    "                    is_sDragging=False\n",
    "                    history_list_sDraw.append(list_sDraw.copy())\n",
    "                    list_sDraw.clear()\n",
    "\n",
    "    #스티커를 만드는 함수의 main\n",
    "    while True:\n",
    "        global is_ser,set_sColor\n",
    "        # 그림을 받아온뒤 그 위에 내가 그린 그림들을 그림\n",
    "        simg = cv2.imread(\"./img/1.jpg\")\n",
    "        simg_c=simg.copy()\n",
    "        h4, w4 = simg.shape[:2]\n",
    "        simg = draw(simg, list_sDraw)\n",
    "        \n",
    "        zoom = (cv2.getTrackbarPos('zoom', 'simgs'))/10\n",
    "        degree = cv2.getTrackbarPos('degree', 'simgs')\n",
    "\n",
    "        for sdraw_locations in history_list_sDraw:\n",
    "            simg = draw(simg, sdraw_locations)\n",
    "        # 스티커라 함은 내가 그린부분만 따서 원본 이미지에 붙이기 위함이다\n",
    "        # 스티커 원본 이미지와 내가 그린 부분의 차이를 통해 스티커를 가져온다,\n",
    "        # 해당작업을 위해선 이미지에서 내가 그린 부분만 따온후 배경은 검은색으로 바꾸어야한다\n",
    "        \n",
    "        diff=cv2.absdiff(simg,simg_c)\n",
    "        diff1=cv2.cvtColor(diff,cv2.COLOR_BGR2GRAY)\n",
    "        _,mask=cv2.threshold(diff1,1,255,cv2.THRESH_BINARY)\n",
    "        mask1=cv2.bitwise_and(simg,simg,mask=mask)\n",
    "        h3,w3=mask1.shape[:2]\n",
    "        md=cv2.getRotationMatrix2D((w3/2,h3/2),degree,zoom)\n",
    "        mask1=cv2.warpAffine(mask1,md,(w3,h3))\n",
    "        mask1=cv2.resize(mask1,None,None,zoom,zoom)\n",
    "        \n",
    "        \n",
    "        \n",
    "        cv2.imshow('simg',simg)\n",
    "        cv2.imshow('simgs',mask1)\n",
    "\n",
    "        cv2.setMouseCallback('simg',mouse_callback)\n",
    "\n",
    "        # 키세팅  esc종료 n 은 새로운 색 추출, c는 화면지우기 , e는 지우개\n",
    "        skey=cv2.waitKey(1)\n",
    "        if skey == 27: # esc\n",
    "            return mask1\n",
    "        elif skey == ord('n'):\n",
    "            set_sColor=False\n",
    "        elif skey == ord('c'):\n",
    "            list_sDraw.clear()\n",
    "            history_list_sDraw.clear()\n",
    "        elif skey == ord('e'):\n",
    "            is_ser=not is_ser\n",
    "            set_sColor=not set_sColor\n",
    "cv2.namedWindow('simgs',0)\n",
    "cv2.createTrackbar('zoom', 'simgs', 2, 10, makestiker)\n",
    "cv2.setTrackbarPos('zoom', 'simgs', 10)\n",
    "cv2.createTrackbar('degree', 'simgs', 0, 360, makestiker)\n",
    "cv2.setTrackbarPos('degree', 'simgs', 0)\n",
    "    \n",
    "\n",
    "### 본격적인 화면내 그림그리기 시작\n",
    "while True:\n",
    "    global point1,point2,is_stikerdraw\n",
    "    ret,img_draw = cap.read()\n",
    "    img_draw = cv2.flip(img_draw,1)\n",
    "    cv2.setMouseCallback('img_draw',mouse_callback2)\n",
    "    img_draw2 = img_draw.copy()\n",
    "    img_hsv = cv2.cvtColor(img_draw2, cv2.COLOR_BGR2HSV)\n",
    "\n",
    "    height, width = img_draw.shape[:2]\n",
    "    point=[]\n",
    "    cx = int(width / 2)\n",
    "    cy = int(height / 2)\n",
    "    \n",
    "    # 원본 동영상에서 원하는 색을 찾았는가?\n",
    "    if set_color == False:\n",
    "        \n",
    "        #색을 찾지 않았으면 화면의 중앙에 빨간색 사각형범위를 보여줌 (이곳을 이용하여 색을 얻어냄)\n",
    "        cv2.rectangle(img_draw, (cx - 20, cy - 20), (cx + 20, cy + 20), (0, 0,255), 3)\n",
    "    \n",
    "    else:\n",
    "\n",
    "        # 위에서 만든 마스크 3개를 or시킨후 원하는 색의 마스크를 얻음\n",
    "        img_maskA1 = cv2.inRange(img_hsv, lower_color1, upper_color1)\n",
    "        img_maskA2 = cv2.inRange(img_hsv, lower_color2, upper_color2)\n",
    "        img_maskA3 = cv2.inRange(img_hsv, lower_color3, upper_color3)\n",
    "        temp = cv2.bitwise_or(img_maskA1, img_maskA2)\n",
    "        img_maskA = cv2.bitwise_or(img_maskA3, temp)\n",
    "        \n",
    "        # morphology를 이용하여 물체내의 검은점, 배경에서의 흰점들을 없애줌\n",
    "        kernel = np.ones((11,11), np.uint8)\n",
    "        img_maskA = cv2.morphologyEx(img_maskA, cv2.MORPH_OPEN, kernel)\n",
    "        img_maskA = cv2.morphologyEx(img_maskA, cv2.MORPH_CLOSE, kernel)\n",
    "        img_maskA = cv2.morphologyEx(img_maskA, cv2.MORPH_OPEN, kernel)\n",
    "        img_maskA = cv2.morphologyEx(img_maskA, cv2.MORPH_CLOSE, kernel)\n",
    "        img_maskA = cv2.morphologyEx(img_maskA, cv2.MORPH_OPEN, kernel)\n",
    "        img_maskA = cv2.morphologyEx(img_maskA, cv2.MORPH_CLOSE, kernel)\n",
    "        \n",
    "        # 그결과를 원본화면의 마스크로 써서 결과값을 얻어낸 뒤 img result에 저장\n",
    "        \n",
    "        # 기하학적 변환을 위한 컨투어 작업\n",
    "        img_result = cv2.bitwise_and(img_draw, img_draw, mask=img_maskA)\n",
    "        img_result=cv2.GaussianBlur(img_result,(3,3),0)\n",
    "        edgeed=cv2.Canny(img_result,75,200)\n",
    "        (cnts,_)=cv2.findContours(edgeed.copy(),cv2.RETR_EXTERNAL,cv2.CHAIN_APPROX_SIMPLE)\n",
    "        #가장 큰 부분만 찾아내기 위함.\n",
    "        cnts=sorted(cnts,key=cv2.contourArea,reverse=True)[:5]\n",
    "        maxc = -1\n",
    "        maxc_index=-1\n",
    "        for c in cnts:\n",
    "            areac=cv2.contourArea(c)\n",
    "            if areac<1200:\n",
    "                continue\n",
    "            if areac > maxc:\n",
    "                maxc=areac\n",
    "                maxc_index=c\n",
    "           \n",
    "        #가장 큰 부분을 찾아냈을때에 점들찍기\n",
    "        if maxc != -1:\n",
    "            cv2.drawContours(img_result,[maxc_index],0,(0,255,0),2)\n",
    "            peri = cv2.arcLength(maxc_index,True)\n",
    "            vertices =cv2.approxPolyDP(maxc_index,0.03 *peri,True)\n",
    "            pts = vertices.reshape(-1,2)\n",
    "            for x,y in pts:\n",
    "                cv2.circle(img_result,(x,y),10,(0,255,0),-1)\n",
    "            sm= pts.sum(axis=1)\n",
    "            diff = np.diff(pts,axis=1)\n",
    "            \n",
    "        # 점 네개의 위치 지정\n",
    "            topleft=pts[np.argmin(sm)]\n",
    "            bottomleft=pts[np.argmax(sm)]\n",
    "            topright=pts[np.argmin(diff)]\n",
    "            bottomright=pts[np.argmax(diff)]\n",
    "            \n",
    "            ptsc=np.float32([topleft,topright,bottomright,bottomleft])\n",
    "            #for x,y in ptsc:\n",
    "                #cv2.circle(img_result,(x,y),10,(255,0,0),-1)\n",
    "            w1=abs(bottomright[0]-bottomleft[0])\n",
    "            w2=abs(topright[0]-topleft[0])\n",
    "            h1=abs(topright[1]-bottomright[1])\n",
    "            h2=abs(topleft[1]-bottomleft[1])\n",
    "            if w1-w2 > 0:\n",
    "                widthc=w1\n",
    "            else:\n",
    "                widthc=w2\n",
    "            if h1-h2>0:\n",
    "                heightc=h1\n",
    "            else:\n",
    "                heightc=h2\n",
    "            # 기하학적 변환을 위한 점의 이동위치\n",
    "            ptsc2=np.float32([topleft,[topleft[0]+widthc-1,topleft[1]],[topleft[0],topleft[1]+heightc-1],[topleft[0]+widthc-1,heightc-1+topleft[1]]])\n",
    "            #for x,y in ptsc2:\n",
    "                #cv2.circle(img_result,(x,y),10,(0,0,255),-1)\n",
    "\n",
    "            mtrxc =cv2.getPerspectiveTransform(ptsc,ptsc2)\n",
    "\n",
    "            resultc=cv2.warpPerspective(img_result,mtrxc,(width,height))\n",
    "            resultc=cv2.cvtColor(resultc,cv2.COLOR_BGR2GRAY)\n",
    "            _,resultc=cv2.threshold(resultc,1,255,cv2.THRESH_BINARY)\n",
    "            img_maskA=resultc\n",
    "            cv2.imshow(\"rect\",resultc)\n",
    "\n",
    "            \n",
    "        # 라벨링\n",
    "        nlabels, labels, stats, centroids = cv2.connectedComponentsWithStats(img_maskA)\n",
    "\n",
    "        #가장 큰 부분 한군대만 찾기위함\n",
    "        max = -1\n",
    "        max_index = -1 \n",
    "\n",
    "        #모든 영역의 크기를 검사해봄\n",
    "        for i in range(nlabels):\n",
    "            \n",
    "            if i < 1:\n",
    "                continue \n",
    "            \n",
    "            # i번째 영역의 넓이를 얻어옴\n",
    "            area = stats[i, cv2.CC_STAT_AREA]\n",
    "            \n",
    "            # 가장큰 영역의 index 번호를 알아옴\n",
    "            if area > max:\n",
    "                max = area\n",
    "                max_index = i\n",
    "\n",
    "\n",
    "        if max_index != -1:\n",
    "\n",
    "            # 해당 index의 영역의 크기의 정보들을 이용\n",
    "            x,y,width,height,area = stats[max_index]\n",
    "            centerX,centerY = int(centroids[max_index][0]), int(centroids[max_index][1])\n",
    "\n",
    "            # 해당영역의 값이 최소 1200이 넘을때 > 영역의 중심에는 원을 그리고, 태두리 부분에 사각형을 그려줌\n",
    "            if area > 1200:\n",
    "                cv2.circle(img_draw, (centerX, centerY), 7, (0,0,0), -1)\n",
    "                cv2.rectangle(img_draw, (x,y), (x+width,y+height), (0,0,0),2)\n",
    "            \n",
    "            # 그림그리기가 true라면 영역의 중앙값의 좌표와 , 얻어낸 색상의 값을 list에 넘겨줌\n",
    "            if isDraw:\n",
    "                list_draw_location.append((centerX, centerY,roi_color))\n",
    "        \n",
    "            # 그림그리기가 false 상태면 현재 좌표들과 색상의 리스트를 history에 넘겨줌 이후 기존 리스트 값은 지워줌\n",
    "            else:\n",
    "                history_draw_locations.append(list_draw_location.copy())\n",
    "                list_draw_location.clear()\n",
    "        \n",
    "        \n",
    "        cv2.imshow('img_result', img_result)\n",
    "        \n",
    "        \n",
    "\n",
    "\n",
    "    img_draw = draw(img_draw, list_draw_location)\n",
    "\n",
    "    for draw_locations in history_draw_locations:\n",
    "        img_draw = draw(img_draw, draw_locations)\n",
    "    \n",
    "    #마지막 으로 스티커를 붙일지 말지를 확인후 붙인다면, 원본의 배경과 배경이 없는 스티커 이미지를 합쳐줌\n",
    "    if is_result and is_stikerdraw:\n",
    "        h2,w2=stiker.shape[:2]\n",
    "        x=point1\n",
    "        y=point2\n",
    "        if (y-(h2//2)>0) and (y+(h2//2)<height) and (x-(w2//2)>0) and (x+(w2//2)<width):\n",
    "            roir=img_draw[y-(h2//2):y+(h2//2),x-(w2//2):x+(w2//2)]\n",
    "            d1=(h2//2)*2\n",
    "            d2=(w2//2)*2\n",
    "            stiker_gray=cv2.cvtColor(stiker,cv2.COLOR_BGR2GRAY)\n",
    "            _,stiker_mask=cv2.threshold(stiker_gray,1,255,cv2.THRESH_BINARY)\n",
    "            stiker_mask_inv=cv2.bitwise_not(stiker_mask)\n",
    "            stiker_mask1=cv2.bitwise_and(roir,roir,mask=stiker_mask_inv[:d1,:d2])\n",
    "            added=stiker_mask1+stiker[:d1,:d2]\n",
    "            img_draw[y-(h2//2):y+(h2//2),x-(w2//2):x+(w2//2)]=added\n",
    "    cv2.imshow('img_draw', img_draw)\n",
    "    \n",
    "    \n",
    "    \n",
    "    \n",
    "    # 메인 원본 이미지에서의 키입력 \n",
    "    # `esc는 종료, 스페이스 바는 영상의 중앙 사각형으로 색을 추출하여 h의 평균값을 이용 mask 이미지에 쓰일 값을 얻음\n",
    "    # r 은 스페이스바로 얻은 색으로 그림을 그림\n",
    "    # x 는 화면을 모두 지워줌\n",
    "    # m 은 스티커를 만드는 화면으로 넘겨줌\n",
    "    # s 는 완성된 스티커를 붙여줌\n",
    "    key = cv2.waitKey(1)\n",
    "    if key == 27: # esc\n",
    "        break\n",
    "    elif key == 32: # space\n",
    "        if step == 0:\n",
    "            roi = img_draw2[cy-20:cy+20, cx-20:cx+20]\n",
    "            roi = cv2.medianBlur(roi, 3)\n",
    "            cv2.imshow(\"roi\", roi)\n",
    "            roi_c = roi.copy()\n",
    "            b,g,r = cv2.split(roi_c)\n",
    "            roi_color=(b.mean(),g.mean(),r.mean())\n",
    "            hsv = cv2.cvtColor(roi, cv2.COLOR_BGR2HSV)\n",
    "            h,s,v = cv2.split(hsv)\n",
    "            color1 = h.mean()\n",
    "            set_color=True\n",
    "            step = 1\n",
    "        elif step ==1:\n",
    "            set_color=False\n",
    "            step = 0\n",
    "    elif key == ord('r'):\n",
    "            isDraw = not isDraw\n",
    "    elif key == ord('x'):\n",
    "            list_draw_location.clear()\n",
    "            history_draw_locations.clear()\n",
    "    elif key == ord('m'):\n",
    "        is_stiker=True\n",
    "        stiker=makestiker()\n",
    "    elif key == ord('s'):\n",
    "        if is_stiker:  \n",
    "            is_result=True\n",
    "\n",
    "            \n",
    "cap.release()\n",
    "cv2.destroyAllWindows()\n"
   ]
  },
  {
   "cell_type": "code",
   "execution_count": null,
   "metadata": {},
   "outputs": [],
   "source": []
  },
  {
   "cell_type": "code",
   "execution_count": null,
   "metadata": {},
   "outputs": [],
   "source": []
  }
 ],
 "metadata": {
  "kernelspec": {
   "display_name": "Python 3",
   "language": "python",
   "name": "python3"
  },
  "language_info": {
   "codemirror_mode": {
    "name": "ipython",
    "version": 3
   },
   "file_extension": ".py",
   "mimetype": "text/x-python",
   "name": "python",
   "nbconvert_exporter": "python",
   "pygments_lexer": "ipython3",
   "version": "3.8.3"
  }
 },
 "nbformat": 4,
 "nbformat_minor": 4
}
